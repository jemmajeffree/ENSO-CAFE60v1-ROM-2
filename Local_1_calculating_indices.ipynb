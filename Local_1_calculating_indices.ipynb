{
 "cells": [
  {
   "cell_type": "code",
   "execution_count": 1,
   "metadata": {},
   "outputs": [],
   "source": [
    "import numpy as np\n",
    "import xarray as xr\n",
    "\n",
    "import CAFE_tools2 as jcafe"
   ]
  },
  {
   "cell_type": "code",
   "execution_count": 2,
   "metadata": {},
   "outputs": [
    {
     "name": "stdout",
     "output_type": "stream",
     "text": [
      "CPU times: user 6.85 s, sys: 4.78 s, total: 11.6 s\n",
      "Wall time: 14.3 s\n"
     ]
    }
   ],
   "source": [
    "#Find variables for ROM from each ensemble member\n",
    "nino34 = np.zeros((97,720))\n",
    "nino3 = np.zeros((97,720))\n",
    "wholeP = np.zeros((97,720))\n",
    "westP = np.zeros((97,720))\n",
    "\n",
    "for e in range(1,97):\n",
    "    sst_full = xr.load_dataset('~/Large Datasets/anomaly_files/'+\n",
    "                               jcafe.anomaly_file_name(1965,2018, 'sst',e_member=e))\n",
    "    i20_full = xr.load_dataset('~/Large Datasets/anomaly_files/'+\n",
    "                               jcafe.anomaly_file_name(1965,2018, 'i20',e_member=e))\n",
    "\n",
    "    nino34[e] = jcafe.average_region(sst_full, jcafe.nino34_region).sst\n",
    "    nino3[e]  = jcafe.average_region(sst_full, jcafe.nino3_region).sst\n",
    "    wholeP[e] = jcafe.average_region(i20_full, jcafe.full_pacific).i20\n",
    "    westP[e]  = jcafe.average_region(i20_full, jcafe.west_pacific).i20"
   ]
  },
  {
   "cell_type": "code",
   "execution_count": 8,
   "metadata": {},
   "outputs": [],
   "source": [
    "#Fill in the 0th entry with the mean of all ensemble members\n",
    "nino34[0] = np.mean(nino34[1:],0)\n",
    "nino3[0] = np.mean(nino3[1:],0)\n",
    "wholeP[0] = np.mean(wholeP[1:],0)\n",
    "westP[0] = np.mean(westP[1:],0)"
   ]
  },
  {
   "cell_type": "code",
   "execution_count": 9,
   "metadata": {},
   "outputs": [],
   "source": [
    "indices = xr.Dataset(data_vars={'nino34_sst':(('ensemble_member','time'),nino34),\n",
    "                                'nino3_sst' :(('ensemble_member','time'),nino3),\n",
    "                                'wholeP_i20':(('ensemble_member','time'),wholeP),\n",
    "                                'westP_i20' :(('ensemble_member','time'),westP)},\n",
    "                     coords = {'time':sst_full.time,\n",
    "                               'ensemble_member':np.arange(97,dtype=np.int64)})"
   ]
  },
  {
   "cell_type": "code",
   "execution_count": 10,
   "metadata": {},
   "outputs": [],
   "source": [
    "indices.to_netcdf('saved_indices.nc')"
   ]
  },
  {
   "cell_type": "code",
   "execution_count": null,
   "metadata": {},
   "outputs": [],
   "source": []
  }
 ],
 "metadata": {
  "kernelspec": {
   "display_name": "Python 3 (ipykernel)",
   "language": "python",
   "name": "python3"
  },
  "language_info": {
   "codemirror_mode": {
    "name": "ipython",
    "version": 3
   },
   "file_extension": ".py",
   "mimetype": "text/x-python",
   "name": "python",
   "nbconvert_exporter": "python",
   "pygments_lexer": "ipython3",
   "version": "3.7.4"
  }
 },
 "nbformat": 4,
 "nbformat_minor": 4
}
